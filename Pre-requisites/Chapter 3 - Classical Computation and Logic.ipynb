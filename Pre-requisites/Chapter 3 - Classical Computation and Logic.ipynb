{
 "cells": [
  {
   "cell_type": "markdown",
   "metadata": {},
   "source": [
    "# Chapter 3: Classical Computation and Logic"
   ]
  },
  {
   "cell_type": "markdown",
   "metadata": {},
   "source": [
    "So far, we have laid out the mathematical foundation necessary for introductory quantum computing, which as shown before, is mere vector and matrix algebra. This third, and short, chapter will be dedicated towards defining a few basic concepts of classical computation, not because it is a necessary prerequisite (although it does help), but rather to describe how information could be processed using classical deterministic rules, as opposed to the ones that will be presented in the next chapter. The Python Module that will be used here is <a href=\"https://pypi.org/project/truth-table-generator/\">Truth-Table-Generator</a> which, as the name suggests, is used to generate truth tables by simply passing the logic operations through the function ```ttg.Truths()```."
   ]
  },
  {
   "cell_type": "markdown",
   "metadata": {},
   "source": [
    "## 3.1 What is Computation?\n",
    "\n",
    "   According to _Google_, a computer is a machine that can be programmed to carry out sequences of arithmetic or logical operations automatically. In other words, it is a device that one can, in one way or another, be used to process information using a series of steps that one defines. These series of steps are called algorithms, and can be as simple as adding two numbers or as complex as suggesting which cat videos you would prefer to watch on YouTube. However, all of these terms are ambiguous, as one could ask questions such as \"What is meant by information? How is it represented? How are these logical operations implemented to begin with?\" The answer is that there are an infinite  number of ways that computation can be performed. The model that is ubiquitously used, however, is the method of using digital circuits to represent and process binary data (i.e information that could be in one of two states, typically represented by 1 or 0). Physically, this model of information proccessing could be implemented by using a device called a transistor which has the ability to switch between high voltage signals (i.e 1) and low voltage signals (i.e 0). Your computer likely has billions of those, which, using complex architecture, work together to process the information and run the algorithms necessary to output programs like operating systems, web browsers, amazing Jupyter Notebooks about Quantum Information, etc. \n",
    "\n",
    "### Why Binary?\n",
    "   \n",
    "   It is common knowledge that computers process information in binary form. To answer why this is, let us think about one of the simplest algorithms: counting. Historically, people have counted in multiple ways. The most primitive way to count is by using a system that represents the number $n$ with $n$ units of, say, a stripe **I**. For example, the number 5 could be represented by **IIIII**, and the number 13 by **IIIIIIIIIIIII**. If a computer were to implement this _tally_ system for counting, then it could represent the number $n$ by $n$ high voltage signals (i.e $n$ 1s). This is a very inefficient model, and even with an algorithm as simple as counting, will very quickly prove to be inept. For this reason, a digital system must be deployed, as it offers an exponentially more efficient way of representing data. For instance, the following image shows the number of digits (and concequently, number of transistor-like devices) necessary to represent the number 13.\n",
    "  <img src=\"assets/13.png\">\n",
    "   \n",
    " As you can see, it takes 13 digits to represent 13 in base 1 (tally), four digits to represent it in base 2 (binary), three digits to represent it in base 3 (trinary), two digits to represent it in base 4 to 13 (quaternary to tridecimal) and only 1 digit to represent it in base 14+. The graph almost looks negative exponential, which suggests that the higher the base, the more efficient the model. So why base two and not a higher base? Can't we define a system with low voltage, high voltage and even higher voltage? The answer is that while that is possible, and we can theoretically build a computer with any number of possible states, the two state system will prove to be most efficient, maybe not in terms of number of transistors, but in terms of design. For this reason, the bit (a 1 or 0) is called the base unit of classical information.\n",
    " \n",
    " ## Python Implementation"
   ]
  },
  {
   "cell_type": "code",
   "execution_count": 1,
   "metadata": {},
   "outputs": [
    {
     "name": "stdout",
     "output_type": "stream",
     "text": [
      "11111111111 in base 1 is  11  in base 10\n",
      "11010 in base 2 is  52  in base 10\n"
     ]
    }
   ],
   "source": [
    "#Converting a number n from base 1 to base 10\n",
    "import numpy as np\n",
    "\n",
    "def tally_to_dec(n):\n",
    "    n_list = [int(i) for i in str(n)] #Converting n to a list of all the digits in it\n",
    "    return len(n_list) #Returning the number of digits in n\n",
    "\n",
    "#Converting a number n from base 2 to 10\n",
    "\n",
    "def bin_to_dec(n):\n",
    "    n_list = [int(i) for i in str(n)] #Same as before (100 --> [1,0,0])\n",
    "    num_digits = len(n_list)\n",
    "    ones = [2**(num_digits - i) for i in range(num_digits) if n_list[i]==1] # 2^i if n_list(i) is 1\n",
    "    result = np.array(ones).sum() #Sums all the 2^i where n_list[i] == 1\n",
    "    return result\n",
    "\n",
    "a = tally_to_dec(11111111111)\n",
    "b = bin_to_dec(11010)\n",
    "\n",
    "print('11111111111 in base 1 is ', a, ' in base 10')\n",
    "print('11010 in base 2 is ', b, ' in base 10')\n",
    "\n",
    "#Excercise: Convert from base 8 to 15"
   ]
  },
  {
   "cell_type": "markdown",
   "metadata": {},
   "source": [
    "## 3.2 Boolean Algebra\n",
    "\n",
    "In the Section above, it was made clear that computers operate on bits, or **b**inary dig**its**. In other words, everything that a computer does can be traced down to some series of 1s and 0s. A bit is also called boolean data. Formally, one can say that $x$ is Boolean if $x \\in \\eta$, where $\\eta = $ {0,1}.\n",
    "\n",
    "Boolean algebra is defined as any operation on $x$ and $y$, for $x,y \\in \\eta$. There are two main operations (addition and multiplication) that are governed by the following seven axioms:\n",
    "\n",
    "\n",
    "1.**Closure:** If $x, y \\in \\eta$, then $O(x,y) \\in \\eta$, where $O$ is some operation (i.e $x\\bullet y$ or $x + y$). \n",
    "\n",
    "2.**Cardinality:** There are two elements $x$ and $y$ of set $\\eta$ for $x \\neq y$ (e.g 1 and 0, ```True``` and ```False```, etc.) This was already stated above.\n",
    "\n",
    "3.**Commutativity:** $O(x,y) = O(y,x)$, where O is some operation that could either be multiplication or addition\n",
    "\n",
    "4.**Associativity:** $x + (y + z) = (x + y) + z $ and $x \\bullet (y \\bullet z) = (x \\bullet y) \\bullet z$. Or generally, $O(x, O(y,z)) = O(O(x,y),z)$.\n",
    "\n",
    "5.**Distributivity:** $x + (y\\bullet z) = (x+y)\\bullet(x+z)$ and $x \\bullet (y + z) = (x\\bullet y) + (x\\bullet z)$\n",
    "\n",
    "6.**Identity Element**: Each operation has its own identity element. For example, (+) has the identity element 0, and ($\\bullet$) has the identity element 1. In other words\n",
    "\n",
    "\\begin{equation}\n",
    "x + 0 = x \\newline\n",
    "x\\bullet 1 = x\n",
    "\\end{equation}\n",
    "\n",
    "7.**Complement Element** for every $x$, there is a $y$ to satisfy\n",
    "\n",
    "\\begin{equation}\n",
    "x + y = 1 \\newline\n",
    "x \\bullet y = 0\n",
    "\\end{equation}\n",
    "\n",
    "### Examples\n",
    "\n",
    "Given that there are two operations and two elements, one can find that there are 8 possible solutions to $O(x,y)$ for $x,y \\in \\eta$. Using the axioms above, one would find them to be \n",
    "\n",
    "\\begin{equation}\n",
    "0 \\bullet 0 = 0 \\newline\n",
    "0 \\bullet 1 = 0 \\newline\n",
    "1 \\bullet 0 = 0 \\newline\n",
    "1 \\bullet 1 = 1 \\newline\n",
    "\\newline\n",
    "0 + 0 = 0 \\newline\n",
    "0 + 1 = 1 \\newline\n",
    "1 + 0 = 1 \\newline\n",
    "1 + 1 = 1 \\newline\n",
    "\\end{equation}\n",
    "\n",
    "A more organized way to represent such operations is with a _truth table_, which will be used for more complex boolean operations in Section 3.3.\n",
    "\n",
    "### DeMorgan's Law\n",
    "\n",
    "From the seven axioms presented above, many theorems about boolean operations can be derived. One of the most notable relationships is deMorgan's Law, which states the following:\n",
    "\n",
    "\\begin{equation}\n",
    "(x + y)' = x' \\bullet y'\n",
    "\\end{equation}\n",
    "\n",
    "where $x'$ is essentially the \"inverse\" of $x$ (i.e 0' = 1 and 1' = 0). I would encourage one to prove DeMorgan's law from the axioms above, but a more efficient way of proving it is by using a truth table, which will be done in the next chapter\n",
    "\n",
    "### Python Implementation"
   ]
  },
  {
   "cell_type": "code",
   "execution_count": 2,
   "metadata": {},
   "outputs": [
    {
     "name": "stdout",
     "output_type": "stream",
     "text": [
      "Cool\n"
     ]
    }
   ],
   "source": [
    "#To represent boolean data, python uses True and False. For example:\n",
    "\n",
    "if True:\n",
    "    print('Cool')\n",
    "if False:\n",
    "    print('Uncool')\n",
    "    \n",
    "#One can use this to build conditions, but I'll stop here before this turns into an intro to Python course\n",
    "\n",
    "#Excercise: Try to build a function that adds, multiplies and inverses two boolean values \n",
    "#(Without looking at the next section) \n",
    "\n",
    "def add(a,b):\n",
    "    return\n",
    "def mult(a,b):\n",
    "    return\n",
    "def invert(a):\n",
    "    return"
   ]
  },
  {
   "cell_type": "markdown",
   "metadata": {},
   "source": [
    "## 3.3 Logic Gates and Circuits\n",
    "\n",
    "The axioms presented above are the only things that computers understand, and as stated before, they understand it using transistors which act as logic gates. A logic gate is essentially just a way of representing boolean operations in terms of  a series of inputs and one output. For example, the AND gate will return a 1 if and only if all of its inputs are 1. Notice that it is equivilent to the ($\\bullet$) operation where 1$\\bullet$1 = 1, and all other scenarios are 0. \n",
    "\n",
    "### Truth Tables\n",
    "\n",
    "A key property of logic gates is that while there can be any number of input boolean data, there will always be one boolean output. A truth table is a table that shows what the output will be for any possible combination of inputs, which is $2^n$ where $n$ is the number of input bits. For example, the AND gate, which has been said to represent $x \\bullet y$ will have the following truth table:\n",
    "\n",
    "<img src='assets/truth.png' width='200'>\n",
    "\n",
    "Inputs are every possible $x$ and $y$ and outputs are $x \\bullet y$. Truth tables can be generated in Python by using the ```truth-table-generator``` module as shown bellow:"
   ]
  },
  {
   "cell_type": "code",
   "execution_count": 3,
   "metadata": {},
   "outputs": [
    {
     "name": "stdout",
     "output_type": "stream",
     "text": [
      "+-----+-----+-----------+\n",
      "|  x  |  y  |  x and y  |\n",
      "|-----+-----+-----------|\n",
      "|  0  |  0  |     0     |\n",
      "|  0  |  1  |     0     |\n",
      "|  1  |  0  |     0     |\n",
      "|  1  |  1  |     1     |\n",
      "+-----+-----+-----------+\n"
     ]
    }
   ],
   "source": [
    "import ttg\n",
    "truthTable = ttg.Truths(['x', 'y'], ['x and y'], ascending=True)\n",
    "\n",
    "print(truthTable)"
   ]
  },
  {
   "cell_type": "markdown",
   "metadata": {},
   "source": [
    "```ttg.Truths()``` can take several parameters, but only two are necessary. The first argument, which is a list of strings, specifies the inputs ```['x','y']```. The second is the operations, in this case ```['x and y']```. The third argument is optional, but pretty much sets the inputs in an ascending order (i.e 00,01,10,11) as oppose to the default (11,10,01,00). \n",
    "\n",
    "## Logic Gate Examples:\n",
    "\n",
    "Technically, any logic gate could be constructed by a series of boolean operations on any number of bits. However, the following are the most commonly found ones\n",
    "<br/>\n",
    "### _**Buffer Gate:**_\n",
    "\n",
    "The Buffer gate is a single bit gate that outputs whatever is inputted to it. \n",
    "\n",
    "**Boolean Operation:** $BUFFER(x) = x$\n",
    "\n",
    "**Symbol:**\n",
    "\n",
    "<img src='assets/buffer.png' width='250px'>\n",
    "\n",
    "**Truth Table:**"
   ]
  },
  {
   "cell_type": "code",
   "execution_count": 4,
   "metadata": {},
   "outputs": [
    {
     "name": "stdout",
     "output_type": "stream",
     "text": [
      "Buffer Gate\n",
      "+-----+-----+\n",
      "|  x  |  x  |\n",
      "|-----+-----|\n",
      "|  0  |  0  |\n",
      "|  1  |  1  |\n",
      "+-----+-----+\n"
     ]
    }
   ],
   "source": [
    "buffer_gate = ttg.Truths(['x'], ['x'], ascending=True)\n",
    "print('Buffer Gate')\n",
    "print(buffer_gate)"
   ]
  },
  {
   "cell_type": "markdown",
   "metadata": {},
   "source": [
    "### _**NOT Gate:**_\n",
    "\n",
    "The NOT gate is a single bit gate that outputs the inverse of the input. It is essentially the opposite of a buffer gate. \n",
    "\n",
    "**Boolean Operation:** $NOT(x) = x'$\n",
    "\n",
    "**Symbol:**\n",
    "\n",
    "<img src='assets/not.png' width='250px'>\n",
    "\n",
    "**Truth Table:**\n",
    "\n",
    "\n",
    "\n"
   ]
  },
  {
   "cell_type": "code",
   "execution_count": 5,
   "metadata": {},
   "outputs": [
    {
     "name": "stdout",
     "output_type": "stream",
     "text": [
      "Not Gate\n",
      "+-----+---------+\n",
      "|  x  |  not x  |\n",
      "|-----+---------|\n",
      "|  0  |    1    |\n",
      "|  1  |    0    |\n",
      "+-----+---------+\n"
     ]
    }
   ],
   "source": [
    "not_gate = ttg.Truths(['x'], ['not x'], ascending=True)\n",
    "print('Not Gate')\n",
    "print(not_gate)"
   ]
  },
  {
   "cell_type": "markdown",
   "metadata": {},
   "source": [
    "### _**AND Gate:**_\n",
    "\n",
    "The AND gate is a 2 bit gate that outputs 1 only if input signal 1 AND input signal 2 are 1. \n",
    "\n",
    "**Boolean Operation:** $AND(x,y) = x \\bullet y $\n",
    "\n",
    "**Symbol and Truth Table:**\n",
    "\n",
    "<img src='assets/and.png' width='200px'>\n",
    "\n",
    "### _**NAND Gate:**_\n",
    "\n",
    "The NAND gate is a 2 bit gate that outputs 1 only if input signal 1 AND input signal 2 are 0. It is the equivilent of a NOT AND.\n",
    "\n",
    "**Boolean Operation:** $NAND(x,y) = (x \\bullet y)' $\n",
    "\n",
    "**Symbol and Truth Table:**\n",
    "\n",
    "<img src='assets/nand.png' width='200px'>\n",
    "\n",
    "\n",
    "\n",
    "### _**OR Gate:**_\n",
    "\n",
    "The OR gate is a 2 bit gate that outputs 1 if either input 1 OR input 2 are 1\n",
    "\n",
    "**Boolean Operation:** $OR(x,y) = x + y $\n",
    "\n",
    "**Symbol and Truth Table:**\n",
    "\n",
    "<img src='assets/or.png' width='200px'>\n",
    "\n",
    "### _**NOR Gate:**_\n",
    "\n",
    "The NOR gate is a 2 bit gate that outputs 1 if either input 1 OR input 2 are 0. It is the equivilent of a NOT OR\n",
    "\n",
    "**Boolean Operation:** $NOR(x,y) = (x + y)' $\n",
    "\n",
    "**Symbol and Truth Table:**\n",
    "\n",
    "<img src='assets/nor.png' width='200px'>\n",
    "\n",
    "\n",
    "\n",
    "### _**XOR Gate:**_\n",
    "\n",
    "The XOR, or the Exclusive OR gate is a 2 bit gate that outputs 1 if ONLY either input 1 or input 2 is 1\n",
    "\n",
    "**Boolean Operation:** $XOR(x,y) = (x + y) \\bullet (x \\bullet y)'$ \n",
    "\n",
    "Note: if you want to check this out with *ttg*, the syntax is ```ttg.Truths(['x','y'], ['(x or y) and not(x and y)'], ascending=True)```\n",
    "\n",
    "**Symbol and Truth Table:**\n",
    "\n",
    "<img src='assets/xor.png' width='200px'>\n",
    "\n",
    "\n",
    "### Example of Using Logic Gates for Computation\n",
    "\n",
    "Let's say you run a school cafetaria and your one job is to give kids a sandwich and salad. For the sake of simplicity, let's say there are two types of sandwiches, say, beef and chicken, and that there are no preferences (e.g no Hindu students, who don't eat beef). You also happen to be a master of robotics and decide to create a robot that replaces you. Now remember that computers (such as robots) only understand data in boolean form, so you would have to write the operation above in boolean logic, which is either meat or chicken and a salad, or in the language of logic gates: ```(Meat XOR Chicken) AND Salad```. The truth table for this will be:\n"
   ]
  },
  {
   "cell_type": "code",
   "execution_count": 6,
   "metadata": {},
   "outputs": [
    {
     "name": "stdout",
     "output_type": "stream",
     "text": [
      "Robo-Lunch-Lady Instructions:\n",
      "+-----+-----+-----+-------------------+\n",
      "|  M  |  C  |  S  |  (M xor C) and S  |\n",
      "|-----+-----+-----+-------------------|\n",
      "|  1  |  1  |  1  |         0         |\n",
      "|  1  |  1  |  0  |         0         |\n",
      "|  1  |  0  |  1  |         1         |\n",
      "|  1  |  0  |  0  |         0         |\n",
      "|  0  |  1  |  1  |         1         |\n",
      "|  0  |  1  |  0  |         0         |\n",
      "|  0  |  0  |  1  |         0         |\n",
      "|  0  |  0  |  0  |         0         |\n",
      "+-----+-----+-----+-------------------+\n"
     ]
    }
   ],
   "source": [
    "roboLunchLady = ttg.Truths(['M','C','S'], ['(M xor C) and S'])\n",
    "print('Robo-Lunch-Lady Instructions:')\n",
    "print(roboLunchLady)"
   ]
  },
  {
   "cell_type": "markdown",
   "metadata": {},
   "source": [
    "Robo-Lunch-Lady now knows to only serve a kid if he's asking for a chicken or meat, and a salad. Notice how we used XOR instead of OR so these sneaky kids wouldn't be able to hack their way into having two sandwiches.\n",
    "\n",
    "### Python Implementation"
   ]
  },
  {
   "cell_type": "code",
   "execution_count": 7,
   "metadata": {},
   "outputs": [
    {
     "name": "stdout",
     "output_type": "stream",
     "text": [
      "(x + y)':\n",
      "+-----+-----+----------------+\n",
      "|  x  |  y  |  not (x or y)  |\n",
      "|-----+-----+----------------|\n",
      "|  1  |  1  |       0        |\n",
      "|  1  |  0  |       0        |\n",
      "|  0  |  1  |       0        |\n",
      "|  0  |  0  |       1        |\n",
      "+-----+-----+----------------+\n",
      "x'.y':\n",
      "+-----+-----+-------------------+\n",
      "|  x  |  y  |  not x and not y  |\n",
      "|-----+-----+-------------------|\n",
      "|  1  |  1  |         0         |\n",
      "|  1  |  0  |         0         |\n",
      "|  0  |  1  |         0         |\n",
      "|  0  |  0  |         1         |\n",
      "+-----+-----+-------------------+\n",
      "They are the same. Note that x and y could also be made up of any arbitrary boolean operations as well (e.g x = a+b, y = a*b\n"
     ]
    }
   ],
   "source": [
    "#Proving deMorgan's theorem with truth tables, as promised in 3.2\n",
    "\n",
    "deMorgan_left = ttg.Truths(['x','y'], ['not (x or y)'])\n",
    "\n",
    "deMorgan_right = ttg.Truths(['x','y'], ['not x and not y'])\n",
    "\n",
    "print('(x + y)\\':')\n",
    "print(deMorgan_left)\n",
    "\n",
    "print('x\\'.y\\':')\n",
    "print(deMorgan_right)\n",
    "\n",
    "print('They are the same. Note that x and y could also be made up of any arbitrary boolean operations as well (e.g x = a+b, y = a*b')\n"
   ]
  },
  {
   "cell_type": "code",
   "execution_count": 8,
   "metadata": {},
   "outputs": [],
   "source": [
    "#Implementing logic gates manually\n",
    "\n",
    "def and_gate(x,y):\n",
    "    if x==1 and y==1:\n",
    "        return 1\n",
    "    else: \n",
    "        return 0\n",
    "    \n",
    "def nand_gate(x,y):\n",
    "    if and_gate(x,y) == 0:\n",
    "        return 1\n",
    "    else:\n",
    "        return 0\n",
    "\n",
    "#Excercise 1: Create the three other gates presented above.\n",
    "\n",
    "def or_gate(x,y):\n",
    "    return \n",
    "\n",
    "def nor_gate(x,y):\n",
    "    return\n",
    "\n",
    "def xor_gate(x,y):\n",
    "    return\n",
    "\n",
    "#Excercise 2: Assume there are Hindu students, and those specifically can't have meat. \n",
    "#Hint: treat Hindu as an input bit"
   ]
  },
  {
   "cell_type": "markdown",
   "metadata": {},
   "source": [
    "## 3.4 Quantum Computing and Its Purpose \n",
    "\n",
    "A couple of weeks into my quantum computing journey, I had the privilege of meeting Prof. Scott Aaronson with a few friends of mine over a web conference. My memory is a bit faint but I remember one of the first questions asked went along the lines of \"Can you solve [some problem] with a quantum computer?\" Dr. Aaronson responded the following in a manner so instinctive, it would perhaps be safe for one to assume that he gets asked similar questions on a daily basis: \"Well, yeah you can do that. Except there wouldn't be any noticable speedup. Quantum Computing doesn't change the theory of computability, meaning that everything that can be solved on a quantum computer, can also be solved on a classical computer, it's just that for some problems, a classical computer may take exponentially more time to compute it\". In my opinion, this is a great \"one-liner\" which explains a lot about why quantum computing is being so heavily investigated, because by using the logic that will later on be described, one can potentially design an algorithm which highly outperforms the current classical versions in terms of efficiency. \n",
    "\n",
    "Richard Feynman noticed this in a talk he gave in 1982, where he said that the current model of computation (i.e classical computers) cannot efficiently model quantum systems in a scalable manner. He gave the following expample: Suppose you have an electron which could either be spin up or spin down. To represent every possible states, one would need two bits (1 for spin up and 1 for spin down), now if there are two electrons, one would need 4 bits, and for $n$ electrons, one would need $2^n$ bits... this gets exponentially less practical and is not an issue of scalability, but rather in the model itself. With a series of quantum bits (i.e bits that could be in a superposition of 1 and 0 at the same time), the number of qubits necessary to model $n$-electron spins would be reduced to $n$.\n",
    "\n",
    "\n",
    "However, problems outside of modeling quantum systems are also being investigated at the moment and there is a whole field dedicated towards what can and can't be modeled by a quantum computer."
   ]
  },
  {
   "cell_type": "code",
   "execution_count": 9,
   "metadata": {},
   "outputs": [],
   "source": [
    "# Go nuts here:\n"
   ]
  }
 ],
 "metadata": {
  "kernelspec": {
   "display_name": "Python 3",
   "language": "python",
   "name": "python3"
  },
  "language_info": {
   "codemirror_mode": {
    "name": "ipython",
    "version": 3
   },
   "file_extension": ".py",
   "mimetype": "text/x-python",
   "name": "python",
   "nbconvert_exporter": "python",
   "pygments_lexer": "ipython3",
   "version": "3.8.8"
  }
 },
 "nbformat": 4,
 "nbformat_minor": 4
}
